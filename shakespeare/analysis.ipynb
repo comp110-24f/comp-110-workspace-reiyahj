{
 "cells": [
  {
   "cell_type": "markdown",
   "metadata": {},
   "source": [
    "# Quantifying Shakespeare\n",
    "\n",
    "### What are the frequency of letters Shakespeare used in their complete works?\n",
    "\n",
    "First we'll load the text data **from a file** into a variable."
   ]
  },
  {
   "cell_type": "code",
   "execution_count": 2,
   "metadata": {},
   "outputs": [
    {
     "name": "stdout",
     "output_type": "stream",
     "text": [
      "195958 lines in this file\n",
      "That thereby beauty’s rose might never die,\n",
      "\n"
     ]
    }
   ],
   "source": [
    "lines: list[str] = [] # This is where we'll store lines of text\n",
    "file_handle = open(\"shakespeare.txt\", \"r\", encoding=\"utf8\")\n",
    "lines = file_handle.readlines()\n",
    "file_handle.close()\n",
    "\n",
    "print(f\"{len(lines)} lines in this file\")\n",
    "print(lines[5])"
   ]
  },
  {
   "cell_type": "markdown",
   "metadata": {},
   "source": [
    "Now let's count the frequencies of all character values in Shakespeare!"
   ]
  },
  {
   "cell_type": "code",
   "execution_count": 10,
   "metadata": {},
   "outputs": [
    {
     "name": "stdout",
     "output_type": "stream",
     "text": [
      "{'t': 354686, 'h': 256570, 'e': 485745, ' ': 828939, 's': 268260, 'o': 332836, 'n': 261362, '\\n': 195957, '1': 251, 'f': 86039, 'r': 252569, 'm': 118009, 'a': 311115, 'i': 270991, 'c': 91830, 'u': 137306, 'w': 96161, 'd': 159283, ',': 94573, 'b': 64084, 'y': 99428, '’': 26332, 'g': 72735, 'v': 40426, 'p': 61490, 'l': 181154, ':': 3415, '-': 3895, 'k': 37838, '.': 91162, '2': 172, 'z': 1795, ';': 12919, '‘': 372, 'x': 5399, '3': 97, '?': 11396, '4': 147, 'q': 4000, '5': 89, '6': 140, '7': 77, 'j': 4935, '(': 217, ')': 217, '8': 139, '9': 83, '0': 136, '—': 2503, '!': 7805, 'æ': 71, '&': 48, '“': 1232, '”': 1059, '[': 4255, '_': 9702, ']': 4253, 'œ': 17, 'à': 18, 'é': 53, 'è': 38, 'â': 2, 'ç': 52, 'î': 2, 'ê': 6, '\\t': 4, 'ë': 4, '…': 3, \"'\": 1, '*': 6}\n"
     ]
    }
   ],
   "source": [
    "frequencies: dict[str, int] = {}\n",
    "\n",
    "# For each line in the lines list\n",
    "    # For each character in the line\n",
    "        # Increase the count of that character's frequency in the dictionary\n",
    "\n",
    "for line in lines:\n",
    "    for char in line:\n",
    "        char = char.lower() # grouping uppercase and lowercase together into 1\n",
    "        if char in frequencies: \n",
    "            frequencies[char] += 1\n",
    "        else:\n",
    "            frequencies[char] = 1\n",
    "\n",
    "print(frequencies)\n",
    "# frequencies"
   ]
  },
  {
   "cell_type": "code",
   "execution_count": null,
   "metadata": {},
   "outputs": [
    {
     "data": {
      "text/plain": [
       "{'t': 354686,\n",
       " 'h': 256570,\n",
       " 'e': 485745,\n",
       " 's': 268260,\n",
       " 'o': 332836,\n",
       " 'n': 261362,\n",
       " 'f': 86039,\n",
       " 'r': 252569,\n",
       " 'm': 118009,\n",
       " 'a': 311115,\n",
       " 'i': 270991,\n",
       " 'c': 91830,\n",
       " 'u': 137306,\n",
       " 'w': 96161,\n",
       " 'd': 159283,\n",
       " 'b': 64084,\n",
       " 'y': 99428,\n",
       " 'g': 72735,\n",
       " 'v': 40426,\n",
       " 'p': 61490,\n",
       " 'l': 181154,\n",
       " 'k': 37838,\n",
       " 'z': 1795,\n",
       " 'x': 5399,\n",
       " 'q': 4000,\n",
       " 'j': 4935,\n",
       " 'æ': 71,\n",
       " 'œ': 17,\n",
       " 'à': 18,\n",
       " 'é': 53,\n",
       " 'è': 38,\n",
       " 'â': 2,\n",
       " 'ç': 52,\n",
       " 'î': 2,\n",
       " 'ê': 6,\n",
       " 'ë': 4}"
      ]
     },
     "execution_count": 12,
     "metadata": {},
     "output_type": "execute_result"
    }
   ],
   "source": [
    "clean_lines: list[str] = []\n",
    "frequencies: dict[str, int] = {} # remember to reset dictionary!!!\n",
    "\n",
    "for line in lines:\n",
    "    for char in line:\n",
    "        if char.isalpha():\n",
    "            lower: str = char.lower()\n",
    "            if lower in frequencies:\n",
    "                frequencies[lower] += 1\n",
    "            else:\n",
    "                frequencies[lower] = 1\n",
    "\n",
    "frequencies"
   ]
  }
 ],
 "metadata": {
  "kernelspec": {
   "display_name": "Python 3",
   "language": "python",
   "name": "python3"
  },
  "language_info": {
   "codemirror_mode": {
    "name": "ipython",
    "version": 3
   },
   "file_extension": ".py",
   "mimetype": "text/x-python",
   "name": "python",
   "nbconvert_exporter": "python",
   "pygments_lexer": "ipython3",
   "version": "3.12.4"
  }
 },
 "nbformat": 4,
 "nbformat_minor": 2
}
